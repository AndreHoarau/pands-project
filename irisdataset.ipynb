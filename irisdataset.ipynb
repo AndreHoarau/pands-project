{
 "cells": [
  {
   "cell_type": "markdown",
   "metadata": {},
   "source": [
    "# The Iris Data Set: an Introduction\n",
    "***\n",
    "Author: Andre Hoarau"
   ]
  },
  {
   "cell_type": "markdown",
   "metadata": {},
   "source": [
    "The Iris data set is a famous data set compiled by R.A. Fisher of Cambridge University. It is commonly used as part of statistics and machine learning exercises. The data set consists of 50 instances of 3 classes of iris plants. The sepal length, sepal width, petal length and petal width of each of the species of Setosa, Versicolour and Virginica are measured.\n",
    "The dataset was published by the Ronald Fisher in 1936 paper \"The use of multiple measurements in taxonomic problems.\"\n",
    "The data set is in a CSV (Comma seperated value) format\n",
    "Note: I modified the Iris Data set before beggining to work on it. I added sepal_length,sepal_width,petal_length,petal_width,species as a line in order to give the csv rows headers."
   ]
  },
  {
   "cell_type": "markdown",
   "metadata": {},
   "source": [
    "The 3 speices of flower pictured below: \n",
    "\n",
    "<div style=\"display: flex; justify-content: space-between;\">\n",
    "    <div style=\"text-align: center;\">\n",
    "        <strong>Setosa</strong>\n",
    "        <br>\n",
    "        <img src=\"https://upload.wikimedia.org/wikipedia/commons/5/56/Kosaciec_szczecinkowaty_Iris_setosa.jpg\" style=\"max-width: 100%; height: 200px;\">\n",
    "    </div>\n",
    "    <div style=\"text-align: center;\">\n",
    "        <strong>Versicolor</strong>\n",
    "        <br>\n",
    "        <img src=\"https://upload.wikimedia.org/wikipedia/commons/2/27/Blue_Flag%2C_Ottawa.jpg\" style=\"max-width: 100%; height: 200px;\">\n",
    "    </div>\n",
    "    <div style=\"text-align: center;\">\n",
    "        <strong>Virginica</strong>\n",
    "        <br>\n",
    "        <img src=\"https://upload.wikimedia.org/wikipedia/commons/f/f8/Iris_virginica_2.jpg\" style=\"max-width: 100%; height: 200px;\">\n",
    "    </div>\n",
    "</div>\n"
   ]
  },
  {
   "cell_type": "markdown",
   "metadata": {},
   "source": [
    "### Statistical Summary Upon Review\n",
    "***"
   ]
  },
  {
   "cell_type": "markdown",
   "metadata": {},
   "source": [
    "The txt file Statistic_Summary.txt contains information around the data in the iris_data.csv file. The code to create this file and the summaries it contains are in anaylsis.py between lines 1-34. \n",
    "\n",
    "Using the .describe() method from pandas:\n",
    "We can look at the variables sepal_length, sepal_width, petal_length and petal_width we can see that there are as expected 150 entries for each. The averages standard deviations, minimum value, 25th 50th and 75th percentile and the maximum value. \n",
    "\n",
    "From this we can see many trends for example:\n",
    "* On average sepals are longer then petals\n",
    "* The sepal lengths are the most consistent across the 3 species as their standard deviation is closest to 1.\n",
    "* The petal lengths are the least consistent as their standard deviation is the furthest from 1. \n",
    "\n",
    "We then use .groupby(\"species\") to group the variables by the species that they are associated with so that we can describe the variables between each species.\n",
    "\n",
    "Looking at this in the txt file we can see that each species has 50 entries per variable which is expected. \n",
    "\n",
    "From this we can see many trends for example:\n",
    "* The setosa differs in sepal and petal size greatly on average from the versicolor and virginica\n",
    "* On average virginica flowers have the largest sepals and petals\n",
    "* sepal length is the most consistent variable for each species as the standard deviation is closest to 1 in each species. \n",
    "\n"
   ]
  },
  {
   "cell_type": "markdown",
   "metadata": {},
   "source": [
    "### Histograms\n",
    "***"
   ]
  },
  {
   "cell_type": "markdown",
   "metadata": {},
   "source": [
    "Histograms are charts that show the frequency distribution of data points across a range. The columns are also known as bins in order along the x-axis. They allow for a visual representation of where most of the data in a set exists or what the distribution of a set of data looks like. The histograms are of each variable across the 3 species resulting in 4 plots one for each variable and using different colours and a legend to specify between the species of flowers. \n",
    "\n",
    "Looking at the histograms generated in analysis.py we can make some observations including: \n",
    "* Petal lengths and widths appear to be more varied between species as we can see there is very little overlap between the bins.\n",
    "* We can reconfirm from our describe in the summary of the statistics that the setosas are the smallest flowers by far except when looking at sepal width and that they vary greater from the other two species. \n",
    "* The distribution of the variables as is the norm with most variables measured in nature follows a Gaussian distribution, also known as a bell-curved distribution. Meaning that there is an average that most of the samples as close to with some outliers on either side causing a bell shape. \n",
    "\n"
   ]
  },
  {
   "cell_type": "markdown",
   "metadata": {},
   "source": [
    "### Scatter Plots\n",
    "***\n",
    "\n",
    "Scatter plots are useful data visualisations and can show the correlation between 2 different variables. Looking at the scatter plots generated in analysis.py we can observe some trends. There appears to be a rather strong correlation between petal length and width within all the species. If we were to perform a linear regression on these scatter plots the pearson coefficient for this graph would be quite close to 1. This would mean in theory that based on the petal width of a flower one could predict the width and vice versa.\n",
    "\n",
    "Other observations include: \n",
    "* All the plots are quite distinct in their groupings of species but once again it appears that the setosa is least like the other 2 species. \n",
    "* We can also see that once again the distinction between petals and sepals in species is more observable in petals. \n",
    "* The lengths and widths of each petals and sepals also appear to have somewhat of a correlation as well. \n",
    "\n",
    "\n"
   ]
  },
  {
   "cell_type": "markdown",
   "metadata": {},
   "source": [
    "### Heat maps by Seaborn\n",
    "***\n",
    "The heat map is another data visualisation that allows for easy visual representation of correlation between two variables, similar to the scatter plots we looked at above where we looked at the linearity of the two variables against each other to determine correlation. The heat map from the seaborn package in matplotlib shows colours of certain palettes ranging from warm to cold colours. Warmer colours tend to indicate stronger correlation in this case and colder colours weaker correlation. The colour palette used in this heat map \"viridis\" is colour blind friendly.\n",
    "\n",
    "Based on our findings from the heat maps generated we can observe:\n",
    "\n",
    "* setosa has the highest correlation between sepal width and sepal length \n",
    "* versicolor has the highest correlation between petal width and petal length\n",
    "* virginica has the highest correlation between petal length and sepal length\n",
    "* The lowest amount of correlation across all species is observed between comparing different measurements of different parts of the flowers for example sepal width and petal length and vice versa.\n",
    "\n",
    "Note: It is important to note that in this instance and in all instances with correlation that we cannot assume that correlation leads to causation. Tightly correlated variables can also be independent of each other. This can lead to issue especially in instances of extrapolation.\n",
    "\n",
    "\n",
    "\n",
    "\n"
   ]
  },
  {
   "cell_type": "markdown",
   "metadata": {},
   "source": [
    "### Machine learning to predict flower species\n",
    "***"
   ]
  },
  {
   "cell_type": "markdown",
   "metadata": {},
   "source": [
    "Upon researching the Iris data set I found that it is commonly used as a machine learning data set. Machine learning is a method of using algorithms that can be trained using data sets. The intention here is to use the RandomForrestClassifier algorithm to be trained with our data set. We can then ask for the end user to input petal and sepal lengths and widths and based on the training it could provide a % certainty of which species of Iris that was presented.\n",
    "\n",
    "To do this we use the sklearn package. In which we utilise the train_test_split to train the model. We use the RandomForrestClassifier as the machine learning model and use StandardScaler to normalise the feature. \n",
    "To utilise machine learning we need to divide the data set into training and testing. This is normally done at an 80:20 split.\n",
    "We then normalise the data as this makes it more efficient for the machine learning model. Normalising the data adjust it to fit a certain range with a mean of 0 and a standard deviation of 1 ensuring consistency and performance.\n",
    "We then train the RandomForrestClassifier so that it can \"learn\" and we use 100 decision trees. In its simplest form the RandomForrestClassifier works like 100 experts voting on the probability of an outcome based on the training data with the majority ruling the decision. We are intending to use this in our example to predict flower species.\n",
    "Lastly we ask for input from the end user and use the RandomForrestClassifier predict_proba and iterate over each species showing the probability as a percentage that it is that species of flower.\n"
   ]
  },
  {
   "cell_type": "markdown",
   "metadata": {},
   "source": [
    "<small>Sources:\n",
    "\n",
    "* Introduction to the data set [here](https://archive.ics.uci.edu/dataset/53/iris)\n",
    "* HTML Image formatting and insertion [Here](https://www.w3schools.com/html/html_images.asp)\n",
    "* The original paper for the data set: \"The Use of Multiple Measurements in Taxonomic Problems\" was authored by Ronald A. Fisher and published in the journal Annals of Eugenics in 1936\n",
    "* Exploratory Data Analysis on Iris Dataset by Geeks for Geeks inspiration of using .describe and looking at the data set [here](https://www.geeksforgeeks.org/exploratory-data-analysis-on-iris-dataset/)\n",
    "* PANDAS documentation for use of the .describe() function [here](https://pandas.pydata.org/docs/reference/api/pandas.DataFrame.describe.html)\n",
    "* Introduction to histograms explained in this article [here](https://www.techtarget.com/searchsoftwarequality/definition/histogram#:~:text=A%20histogram%20is%20a%20type,the%20bottom%20of%20the%20chart.)\n",
    "* The prevalence of bell curves in natural phenomena and discusses the underlying reasons behind this common occurrence.[here](https://www.realclearscience.com/2024/02/17/why_does_nature_always_follow_a_bell_curve_1012464.html)\n",
    "* Documentation on using matplotlib scatter plots [here](https://www.w3schools.com/python/python_ml_scatterplot.asp)\n",
    "* Information on linear regression [here](https://www.w3schools.com/python/python_ml_linear_regression.asp)\n",
    "* Basic information on scatter plots uses and concerns [here](https://corporatefinanceinstitute.com/resources/data-science/scatter-plot/)\n",
    "* Seaborn heat mapt documentation [here](https://seaborn.pydata.org/generated/seaborn.heatmap.html)\n",
    "* Inspiration for an analysis [here](https://www.kaggle.com/code/rakesh6184/seaborn-plot-to-visualize-iris-data)\n",
    "* How to use the seaborn heatmap: [here](https://www.datacamp.com/tutorial/seaborn-heatmaps)\n",
    "* More Inspiration for creating a heat map came from [here](https://www.kaggle.com/code/crbelhekar619/iris-dataset-eda-visualization)\n",
    "* sklearn RandomForestClassifier documentation [here](https://scikit-learn.org/stable/modules/generated/sklearn.ensemble.RandomForestClassifier.html)\n",
    "* Inspiration to use for flower type prediction and more information on the model [here](https://www.geeksforgeeks.org/random-forest-classifier-using-scikit-learn/)\n",
    "* What is normalising a data set [here](https://en.wikipedia.org/wiki/Normalization_(statistics))\n",
    "\n",
    "</small>"
   ]
  },
  {
   "cell_type": "markdown",
   "metadata": {},
   "source": [
    "# End\n",
    "***"
   ]
  }
 ],
 "metadata": {
  "kernelspec": {
   "display_name": "base",
   "language": "python",
   "name": "python3"
  },
  "language_info": {
   "name": "python",
   "version": "3.11.5"
  }
 },
 "nbformat": 4,
 "nbformat_minor": 2
}
