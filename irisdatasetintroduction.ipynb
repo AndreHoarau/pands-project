{
 "cells": [
  {
   "cell_type": "markdown",
   "metadata": {},
   "source": [
    "# The Iris Data Set: an Introduction\n",
    "***\n",
    "Author: Andre Hoarau"
   ]
  },
  {
   "cell_type": "markdown",
   "metadata": {},
   "source": [
    "The Iris data set is a famous data set compiled by R.A. Fisher of Cambridge University. It is commonly used as part of statistics and machine learning exercises. The data set consists of 50 instances of 3 classes of iris plants. The sepal length, sepal width, petal length and petal width of each of the species of Setosa, Versicolour and Virginica are measured."
   ]
  },
  {
   "cell_type": "markdown",
   "metadata": {},
   "source": [
    "The 3 speices of flower pictured below: \n",
    "\n",
    "<div style=\"display: flex; justify-content: space-between;\">\n",
    "    <div style=\"text-align: center;\">\n",
    "        <strong>Setosa</strong>\n",
    "        <br>\n",
    "        <img src=\"https://upload.wikimedia.org/wikipedia/commons/5/56/Kosaciec_szczecinkowaty_Iris_setosa.jpg\" style=\"max-width: 100%; height: 200px;\">\n",
    "    </div>\n",
    "    <div style=\"text-align: center;\">\n",
    "        <strong>Versicolor</strong>\n",
    "        <br>\n",
    "        <img src=\"https://upload.wikimedia.org/wikipedia/commons/2/27/Blue_Flag%2C_Ottawa.jpg\" style=\"max-width: 100%; height: 200px;\">\n",
    "    </div>\n",
    "    <div style=\"text-align: center;\">\n",
    "        <strong>Virginica</strong>\n",
    "        <br>\n",
    "        <img src=\"https://upload.wikimedia.org/wikipedia/commons/f/f8/Iris_virginica_2.jpg\" style=\"max-width: 100%; height: 200px;\">\n",
    "    </div>\n",
    "</div>\n"
   ]
  },
  {
   "cell_type": "markdown",
   "metadata": {},
   "source": [
    "<small>Sources:\n",
    "\n",
    "* Introduction to the data set [here](https://archive.ics.uci.edu/dataset/53/iris)\n",
    "* HTML Image formatting and insertion [Here](https://www.w3schools.com/html/html_images.asp)\n",
    "\n",
    "</small>"
   ]
  }
 ],
 "metadata": {
  "language_info": {
   "name": "python"
  }
 },
 "nbformat": 4,
 "nbformat_minor": 2
}
